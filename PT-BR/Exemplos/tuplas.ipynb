{
 "cells": [
  {
   "cell_type": "markdown",
   "id": "e06492be",
   "metadata": {},
   "source": [
    "# Tuplas"
   ]
  },
  {
   "cell_type": "markdown",
   "id": "2fcc7b93",
   "metadata": {},
   "source": [
    "coordenadas = (10.5, 20.3)\n",
    "print(coordenadas)"
   ]
  },
  {
   "cell_type": "markdown",
   "id": "74c1c5a6",
   "metadata": {},
   "source": [
    "# Desempacotamento"
   ]
  },
  {
   "cell_type": "code",
   "execution_count": null,
   "id": "1063f627",
   "metadata": {
    "vscode": {
     "languageId": "plaintext"
    }
   },
   "outputs": [],
   "source": [
    "x, y = coordenadas\n",
    "print(f\"x: {x}, y: {y}\")"
   ]
  }
 ],
 "metadata": {
  "language_info": {
   "name": "python"
  }
 },
 "nbformat": 4,
 "nbformat_minor": 5
}
