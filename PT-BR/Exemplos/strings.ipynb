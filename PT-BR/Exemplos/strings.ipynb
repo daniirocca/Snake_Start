{
 "cells": [
  {
   "cell_type": "markdown",
   "id": "0c907719",
   "metadata": {},
   "source": [
    "# Manipulação de strings"
   ]
  },
  {
   "cell_type": "code",
   "execution_count": null,
   "id": "9f8133c4",
   "metadata": {
    "vscode": {
     "languageId": "plaintext"
    }
   },
   "outputs": [],
   "source": [
    "mensagem = \"Python é incrível!\"\n",
    "\n",
    "print(mensagem.upper())             # Maiúsculas\n",
    "print(mensagem.lower())             # Minúsculas\n",
    "print(mensagem.replace(\"é\", \"é mesmo\"))  # Substituição\n",
    "print(len(mensagem))                # Tamanho da string"
   ]
  }
 ],
 "metadata": {
  "language_info": {
   "name": "python"
  }
 },
 "nbformat": 4,
 "nbformat_minor": 5
}
