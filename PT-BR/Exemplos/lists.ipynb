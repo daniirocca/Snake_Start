{
 "cells": [
  {
   "cell_type": "markdown",
   "id": "814af047",
   "metadata": {},
   "source": [
    "# Listas"
   ]
  },
  {
   "cell_type": "code",
   "execution_count": null,
   "id": "1a23fb86",
   "metadata": {
    "vscode": {
     "languageId": "plaintext"
    }
   },
   "outputs": [],
   "source": [
    "frutas = [\"maçã\", \"banana\", \"uva\"]\n",
    "frutas.append(\"laranja\")\n",
    "frutas[1] = \"pera\"\n",
    "\n",
    "print(frutas)\n",
    "print(frutas[0])\n",
    "print(len(frutas))"
   ]
  }
 ],
 "metadata": {
  "language_info": {
   "name": "python"
  }
 },
 "nbformat": 4,
 "nbformat_minor": 5
}
