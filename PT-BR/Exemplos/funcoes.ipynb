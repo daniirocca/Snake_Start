{
 "cells": [
  {
   "cell_type": "markdown",
   "id": "c8dd8468",
   "metadata": {},
   "source": [
    "# Funções"
   ]
  },
  {
   "cell_type": "code",
   "execution_count": null,
   "id": "2bc4ac1a",
   "metadata": {
    "vscode": {
     "languageId": "plaintext"
    }
   },
   "outputs": [],
   "source": [
    "def saudacao(nome=\"visitante\"):\n",
    "    return f\"Olá, {nome}!\"\n",
    "\n",
    "print(saudacao(\"Ana\"))\n",
    "print(saudacao())\n",
    "\n",
    "def soma(a, b):\n",
    "    return a + b\n",
    "\n",
    "print(soma(3, 7))"
   ]
  }
 ],
 "metadata": {
  "language_info": {
   "name": "python"
  }
 },
 "nbformat": 4,
 "nbformat_minor": 5
}
