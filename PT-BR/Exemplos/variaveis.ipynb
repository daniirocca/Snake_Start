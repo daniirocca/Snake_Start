{
 "cells": [
  {
   "cell_type": "markdown",
   "id": "2126c419",
   "metadata": {},
   "source": [
    "# Variáveis em Python"
   ]
  },
  {
   "cell_type": "code",
   "execution_count": null,
   "id": "95f5fd01",
   "metadata": {
    "vscode": {
     "languageId": "plaintext"
    }
   },
   "outputs": [],
   "source": [
    "nome = \"Ana\"\n",
    "idade = 25\n",
    "altura = 1.68\n",
    "ativo = True\n",
    "\n",
    "print(nome, idade, altura, ativo)"
   ]
  }
 ],
 "metadata": {
  "language_info": {
   "name": "python"
  }
 },
 "nbformat": 4,
 "nbformat_minor": 5
}
