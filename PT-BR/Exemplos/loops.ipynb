{
 "cells": [
  {
   "cell_type": "markdown",
   "id": "0652b6bc",
   "metadata": {},
   "source": [
    "# Loop for"
   ]
  },
  {
   "cell_type": "code",
   "execution_count": null,
   "id": "20d28db6",
   "metadata": {
    "vscode": {
     "languageId": "plaintext"
    }
   },
   "outputs": [],
   "source": [
    "for i in range(5):\n",
    "    print(f\"Número: {i}\")"
   ]
  },
  {
   "cell_type": "markdown",
   "id": "f2db1054",
   "metadata": {},
   "source": [
    "# Loop while"
   ]
  },
  {
   "cell_type": "code",
   "execution_count": null,
   "id": "53a40e37",
   "metadata": {
    "vscode": {
     "languageId": "plaintext"
    }
   },
   "outputs": [],
   "source": [
    "contador = 0\n",
    "while contador < 3:\n",
    "    print(\"Contando:\", contador)\n",
    "    contador += 1"
   ]
  }
 ],
 "metadata": {
  "language_info": {
   "name": "python"
  }
 },
 "nbformat": 4,
 "nbformat_minor": 5
}
